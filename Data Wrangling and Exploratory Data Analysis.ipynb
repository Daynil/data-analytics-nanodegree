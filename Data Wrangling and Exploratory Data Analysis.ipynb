{
 "cells": [
  {
   "cell_type": "markdown",
   "metadata": {},
   "source": [
    "# Data Wrangling and Exploratory Data Analysis"
   ]
  },
  {
   "cell_type": "markdown",
   "metadata": {},
   "source": [
    "Let's import our libraries and glance at the data to get a feel for its structure."
   ]
  },
  {
   "cell_type": "code",
   "execution_count": 266,
   "metadata": {},
   "outputs": [
    {
     "data": {
      "text/html": [
       "<div>\n",
       "<table border=\"1\" class=\"dataframe\">\n",
       "  <thead>\n",
       "    <tr style=\"text-align: right;\">\n",
       "      <th></th>\n",
       "      <th>ListingKey</th>\n",
       "      <th>ListingNumber</th>\n",
       "      <th>ListingCreationDate</th>\n",
       "      <th>CreditGrade</th>\n",
       "      <th>Term</th>\n",
       "      <th>LoanStatus</th>\n",
       "      <th>ClosedDate</th>\n",
       "      <th>BorrowerAPR</th>\n",
       "      <th>BorrowerRate</th>\n",
       "      <th>LenderYield</th>\n",
       "      <th>...</th>\n",
       "      <th>LP_ServiceFees</th>\n",
       "      <th>LP_CollectionFees</th>\n",
       "      <th>LP_GrossPrincipalLoss</th>\n",
       "      <th>LP_NetPrincipalLoss</th>\n",
       "      <th>LP_NonPrincipalRecoverypayments</th>\n",
       "      <th>PercentFunded</th>\n",
       "      <th>Recommendations</th>\n",
       "      <th>InvestmentFromFriendsCount</th>\n",
       "      <th>InvestmentFromFriendsAmount</th>\n",
       "      <th>Investors</th>\n",
       "    </tr>\n",
       "  </thead>\n",
       "  <tbody>\n",
       "    <tr>\n",
       "      <th>0</th>\n",
       "      <td>1021339766868145413AB3B</td>\n",
       "      <td>193129</td>\n",
       "      <td>2007-08-26 19:09:29.263000000</td>\n",
       "      <td>C</td>\n",
       "      <td>36</td>\n",
       "      <td>Completed</td>\n",
       "      <td>2009-08-14 00:00:00</td>\n",
       "      <td>0.16516</td>\n",
       "      <td>0.1580</td>\n",
       "      <td>0.1380</td>\n",
       "      <td>...</td>\n",
       "      <td>-133.18</td>\n",
       "      <td>0.0</td>\n",
       "      <td>0.0</td>\n",
       "      <td>0.0</td>\n",
       "      <td>0.0</td>\n",
       "      <td>1.0</td>\n",
       "      <td>0</td>\n",
       "      <td>0</td>\n",
       "      <td>0.0</td>\n",
       "      <td>258</td>\n",
       "    </tr>\n",
       "    <tr>\n",
       "      <th>1</th>\n",
       "      <td>10273602499503308B223C1</td>\n",
       "      <td>1209647</td>\n",
       "      <td>2014-02-27 08:28:07.900000000</td>\n",
       "      <td>NaN</td>\n",
       "      <td>36</td>\n",
       "      <td>Current</td>\n",
       "      <td>NaN</td>\n",
       "      <td>0.12016</td>\n",
       "      <td>0.0920</td>\n",
       "      <td>0.0820</td>\n",
       "      <td>...</td>\n",
       "      <td>0.00</td>\n",
       "      <td>0.0</td>\n",
       "      <td>0.0</td>\n",
       "      <td>0.0</td>\n",
       "      <td>0.0</td>\n",
       "      <td>1.0</td>\n",
       "      <td>0</td>\n",
       "      <td>0</td>\n",
       "      <td>0.0</td>\n",
       "      <td>1</td>\n",
       "    </tr>\n",
       "    <tr>\n",
       "      <th>2</th>\n",
       "      <td>0EE9337825851032864889A</td>\n",
       "      <td>81716</td>\n",
       "      <td>2007-01-05 15:00:47.090000000</td>\n",
       "      <td>HR</td>\n",
       "      <td>36</td>\n",
       "      <td>Completed</td>\n",
       "      <td>2009-12-17 00:00:00</td>\n",
       "      <td>0.28269</td>\n",
       "      <td>0.2750</td>\n",
       "      <td>0.2400</td>\n",
       "      <td>...</td>\n",
       "      <td>-24.20</td>\n",
       "      <td>0.0</td>\n",
       "      <td>0.0</td>\n",
       "      <td>0.0</td>\n",
       "      <td>0.0</td>\n",
       "      <td>1.0</td>\n",
       "      <td>0</td>\n",
       "      <td>0</td>\n",
       "      <td>0.0</td>\n",
       "      <td>41</td>\n",
       "    </tr>\n",
       "    <tr>\n",
       "      <th>3</th>\n",
       "      <td>0EF5356002482715299901A</td>\n",
       "      <td>658116</td>\n",
       "      <td>2012-10-22 11:02:35.010000000</td>\n",
       "      <td>NaN</td>\n",
       "      <td>36</td>\n",
       "      <td>Current</td>\n",
       "      <td>NaN</td>\n",
       "      <td>0.12528</td>\n",
       "      <td>0.0974</td>\n",
       "      <td>0.0874</td>\n",
       "      <td>...</td>\n",
       "      <td>-108.01</td>\n",
       "      <td>0.0</td>\n",
       "      <td>0.0</td>\n",
       "      <td>0.0</td>\n",
       "      <td>0.0</td>\n",
       "      <td>1.0</td>\n",
       "      <td>0</td>\n",
       "      <td>0</td>\n",
       "      <td>0.0</td>\n",
       "      <td>158</td>\n",
       "    </tr>\n",
       "    <tr>\n",
       "      <th>4</th>\n",
       "      <td>0F023589499656230C5E3E2</td>\n",
       "      <td>909464</td>\n",
       "      <td>2013-09-14 18:38:39.097000000</td>\n",
       "      <td>NaN</td>\n",
       "      <td>36</td>\n",
       "      <td>Current</td>\n",
       "      <td>NaN</td>\n",
       "      <td>0.24614</td>\n",
       "      <td>0.2085</td>\n",
       "      <td>0.1985</td>\n",
       "      <td>...</td>\n",
       "      <td>-60.27</td>\n",
       "      <td>0.0</td>\n",
       "      <td>0.0</td>\n",
       "      <td>0.0</td>\n",
       "      <td>0.0</td>\n",
       "      <td>1.0</td>\n",
       "      <td>0</td>\n",
       "      <td>0</td>\n",
       "      <td>0.0</td>\n",
       "      <td>20</td>\n",
       "    </tr>\n",
       "    <tr>\n",
       "      <th>5</th>\n",
       "      <td>0F05359734824199381F61D</td>\n",
       "      <td>1074836</td>\n",
       "      <td>2013-12-14 08:26:37.093000000</td>\n",
       "      <td>NaN</td>\n",
       "      <td>60</td>\n",
       "      <td>Current</td>\n",
       "      <td>NaN</td>\n",
       "      <td>0.15425</td>\n",
       "      <td>0.1314</td>\n",
       "      <td>0.1214</td>\n",
       "      <td>...</td>\n",
       "      <td>-25.33</td>\n",
       "      <td>0.0</td>\n",
       "      <td>0.0</td>\n",
       "      <td>0.0</td>\n",
       "      <td>0.0</td>\n",
       "      <td>1.0</td>\n",
       "      <td>0</td>\n",
       "      <td>0</td>\n",
       "      <td>0.0</td>\n",
       "      <td>1</td>\n",
       "    </tr>\n",
       "    <tr>\n",
       "      <th>6</th>\n",
       "      <td>0F0A3576754255009D63151</td>\n",
       "      <td>750899</td>\n",
       "      <td>2013-04-12 09:52:56.147000000</td>\n",
       "      <td>NaN</td>\n",
       "      <td>36</td>\n",
       "      <td>Current</td>\n",
       "      <td>NaN</td>\n",
       "      <td>0.31032</td>\n",
       "      <td>0.2712</td>\n",
       "      <td>0.2612</td>\n",
       "      <td>...</td>\n",
       "      <td>-22.95</td>\n",
       "      <td>0.0</td>\n",
       "      <td>0.0</td>\n",
       "      <td>0.0</td>\n",
       "      <td>0.0</td>\n",
       "      <td>1.0</td>\n",
       "      <td>0</td>\n",
       "      <td>0</td>\n",
       "      <td>0.0</td>\n",
       "      <td>1</td>\n",
       "    </tr>\n",
       "    <tr>\n",
       "      <th>7</th>\n",
       "      <td>0F1035772717087366F9EA7</td>\n",
       "      <td>768193</td>\n",
       "      <td>2013-05-05 06:49:27.493000000</td>\n",
       "      <td>NaN</td>\n",
       "      <td>36</td>\n",
       "      <td>Current</td>\n",
       "      <td>NaN</td>\n",
       "      <td>0.23939</td>\n",
       "      <td>0.2019</td>\n",
       "      <td>0.1919</td>\n",
       "      <td>...</td>\n",
       "      <td>-69.21</td>\n",
       "      <td>0.0</td>\n",
       "      <td>0.0</td>\n",
       "      <td>0.0</td>\n",
       "      <td>0.0</td>\n",
       "      <td>1.0</td>\n",
       "      <td>0</td>\n",
       "      <td>0</td>\n",
       "      <td>0.0</td>\n",
       "      <td>1</td>\n",
       "    </tr>\n",
       "    <tr>\n",
       "      <th>8</th>\n",
       "      <td>0F043596202561788EA13D5</td>\n",
       "      <td>1023355</td>\n",
       "      <td>2013-12-02 10:43:39.117000000</td>\n",
       "      <td>NaN</td>\n",
       "      <td>36</td>\n",
       "      <td>Current</td>\n",
       "      <td>NaN</td>\n",
       "      <td>0.07620</td>\n",
       "      <td>0.0629</td>\n",
       "      <td>0.0529</td>\n",
       "      <td>...</td>\n",
       "      <td>-16.77</td>\n",
       "      <td>0.0</td>\n",
       "      <td>0.0</td>\n",
       "      <td>0.0</td>\n",
       "      <td>0.0</td>\n",
       "      <td>1.0</td>\n",
       "      <td>0</td>\n",
       "      <td>0</td>\n",
       "      <td>0.0</td>\n",
       "      <td>1</td>\n",
       "    </tr>\n",
       "    <tr>\n",
       "      <th>9</th>\n",
       "      <td>0F043596202561788EA13D5</td>\n",
       "      <td>1023355</td>\n",
       "      <td>2013-12-02 10:43:39.117000000</td>\n",
       "      <td>NaN</td>\n",
       "      <td>36</td>\n",
       "      <td>Current</td>\n",
       "      <td>NaN</td>\n",
       "      <td>0.07620</td>\n",
       "      <td>0.0629</td>\n",
       "      <td>0.0529</td>\n",
       "      <td>...</td>\n",
       "      <td>-16.77</td>\n",
       "      <td>0.0</td>\n",
       "      <td>0.0</td>\n",
       "      <td>0.0</td>\n",
       "      <td>0.0</td>\n",
       "      <td>1.0</td>\n",
       "      <td>0</td>\n",
       "      <td>0</td>\n",
       "      <td>0.0</td>\n",
       "      <td>1</td>\n",
       "    </tr>\n",
       "  </tbody>\n",
       "</table>\n",
       "<p>10 rows × 81 columns</p>\n",
       "</div>"
      ],
      "text/plain": [
       "                ListingKey  ListingNumber            ListingCreationDate  \\\n",
       "0  1021339766868145413AB3B         193129  2007-08-26 19:09:29.263000000   \n",
       "1  10273602499503308B223C1        1209647  2014-02-27 08:28:07.900000000   \n",
       "2  0EE9337825851032864889A          81716  2007-01-05 15:00:47.090000000   \n",
       "3  0EF5356002482715299901A         658116  2012-10-22 11:02:35.010000000   \n",
       "4  0F023589499656230C5E3E2         909464  2013-09-14 18:38:39.097000000   \n",
       "5  0F05359734824199381F61D        1074836  2013-12-14 08:26:37.093000000   \n",
       "6  0F0A3576754255009D63151         750899  2013-04-12 09:52:56.147000000   \n",
       "7  0F1035772717087366F9EA7         768193  2013-05-05 06:49:27.493000000   \n",
       "8  0F043596202561788EA13D5        1023355  2013-12-02 10:43:39.117000000   \n",
       "9  0F043596202561788EA13D5        1023355  2013-12-02 10:43:39.117000000   \n",
       "\n",
       "  CreditGrade  Term LoanStatus           ClosedDate  BorrowerAPR  \\\n",
       "0           C    36  Completed  2009-08-14 00:00:00      0.16516   \n",
       "1         NaN    36    Current                  NaN      0.12016   \n",
       "2          HR    36  Completed  2009-12-17 00:00:00      0.28269   \n",
       "3         NaN    36    Current                  NaN      0.12528   \n",
       "4         NaN    36    Current                  NaN      0.24614   \n",
       "5         NaN    60    Current                  NaN      0.15425   \n",
       "6         NaN    36    Current                  NaN      0.31032   \n",
       "7         NaN    36    Current                  NaN      0.23939   \n",
       "8         NaN    36    Current                  NaN      0.07620   \n",
       "9         NaN    36    Current                  NaN      0.07620   \n",
       "\n",
       "   BorrowerRate  LenderYield    ...     LP_ServiceFees  LP_CollectionFees  \\\n",
       "0        0.1580       0.1380    ...            -133.18                0.0   \n",
       "1        0.0920       0.0820    ...               0.00                0.0   \n",
       "2        0.2750       0.2400    ...             -24.20                0.0   \n",
       "3        0.0974       0.0874    ...            -108.01                0.0   \n",
       "4        0.2085       0.1985    ...             -60.27                0.0   \n",
       "5        0.1314       0.1214    ...             -25.33                0.0   \n",
       "6        0.2712       0.2612    ...             -22.95                0.0   \n",
       "7        0.2019       0.1919    ...             -69.21                0.0   \n",
       "8        0.0629       0.0529    ...             -16.77                0.0   \n",
       "9        0.0629       0.0529    ...             -16.77                0.0   \n",
       "\n",
       "   LP_GrossPrincipalLoss  LP_NetPrincipalLoss LP_NonPrincipalRecoverypayments  \\\n",
       "0                    0.0                  0.0                             0.0   \n",
       "1                    0.0                  0.0                             0.0   \n",
       "2                    0.0                  0.0                             0.0   \n",
       "3                    0.0                  0.0                             0.0   \n",
       "4                    0.0                  0.0                             0.0   \n",
       "5                    0.0                  0.0                             0.0   \n",
       "6                    0.0                  0.0                             0.0   \n",
       "7                    0.0                  0.0                             0.0   \n",
       "8                    0.0                  0.0                             0.0   \n",
       "9                    0.0                  0.0                             0.0   \n",
       "\n",
       "   PercentFunded  Recommendations InvestmentFromFriendsCount  \\\n",
       "0            1.0                0                          0   \n",
       "1            1.0                0                          0   \n",
       "2            1.0                0                          0   \n",
       "3            1.0                0                          0   \n",
       "4            1.0                0                          0   \n",
       "5            1.0                0                          0   \n",
       "6            1.0                0                          0   \n",
       "7            1.0                0                          0   \n",
       "8            1.0                0                          0   \n",
       "9            1.0                0                          0   \n",
       "\n",
       "  InvestmentFromFriendsAmount Investors  \n",
       "0                         0.0       258  \n",
       "1                         0.0         1  \n",
       "2                         0.0        41  \n",
       "3                         0.0       158  \n",
       "4                         0.0        20  \n",
       "5                         0.0         1  \n",
       "6                         0.0         1  \n",
       "7                         0.0         1  \n",
       "8                         0.0         1  \n",
       "9                         0.0         1  \n",
       "\n",
       "[10 rows x 81 columns]"
      ]
     },
     "execution_count": 266,
     "metadata": {},
     "output_type": "execute_result"
    }
   ],
   "source": [
    "import matplotlib.pyplot as plt\n",
    "import numpy as np\n",
    "import pandas as pd\n",
    "import seaborn as sns\n",
    "\n",
    "filename = 'prosperLoanData.csv'\n",
    "ldf = pd.read_csv(filename)\n",
    "ldf.head(10)"
   ]
  },
  {
   "cell_type": "code",
   "execution_count": 267,
   "metadata": {
    "scrolled": true
   },
   "outputs": [
    {
     "name": "stdout",
     "output_type": "stream",
     "text": [
      "Number of loans:  113937\n",
      "Columns list:\n",
      "Index(['ListingKey', 'ListingNumber', 'ListingCreationDate', 'CreditGrade',\n",
      "       'Term', 'LoanStatus', 'ClosedDate', 'BorrowerAPR', 'BorrowerRate',\n",
      "       'LenderYield', 'EstimatedEffectiveYield', 'EstimatedLoss',\n",
      "       'EstimatedReturn', 'ProsperRating (numeric)', 'ProsperRating (Alpha)',\n",
      "       'ProsperScore', 'ListingCategory (numeric)', 'BorrowerState',\n",
      "       'Occupation', 'EmploymentStatus', 'EmploymentStatusDuration',\n",
      "       'IsBorrowerHomeowner', 'CurrentlyInGroup', 'GroupKey',\n",
      "       'DateCreditPulled', 'CreditScoreRangeLower', 'CreditScoreRangeUpper',\n",
      "       'FirstRecordedCreditLine', 'CurrentCreditLines', 'OpenCreditLines',\n",
      "       'TotalCreditLinespast7years', 'OpenRevolvingAccounts',\n",
      "       'OpenRevolvingMonthlyPayment', 'InquiriesLast6Months', 'TotalInquiries',\n",
      "       'CurrentDelinquencies', 'AmountDelinquent', 'DelinquenciesLast7Years',\n",
      "       'PublicRecordsLast10Years', 'PublicRecordsLast12Months',\n",
      "       'RevolvingCreditBalance', 'BankcardUtilization',\n",
      "       'AvailableBankcardCredit', 'TotalTrades',\n",
      "       'TradesNeverDelinquent (percentage)', 'TradesOpenedLast6Months',\n",
      "       'DebtToIncomeRatio', 'IncomeRange', 'IncomeVerifiable',\n",
      "       'StatedMonthlyIncome', 'LoanKey', 'TotalProsperLoans',\n",
      "       'TotalProsperPaymentsBilled', 'OnTimeProsperPayments',\n",
      "       'ProsperPaymentsLessThanOneMonthLate',\n",
      "       'ProsperPaymentsOneMonthPlusLate', 'ProsperPrincipalBorrowed',\n",
      "       'ProsperPrincipalOutstanding', 'ScorexChangeAtTimeOfListing',\n",
      "       'LoanCurrentDaysDelinquent', 'LoanFirstDefaultedCycleNumber',\n",
      "       'LoanMonthsSinceOrigination', 'LoanNumber', 'LoanOriginalAmount',\n",
      "       'LoanOriginationDate', 'LoanOriginationQuarter', 'MemberKey',\n",
      "       'MonthlyLoanPayment', 'LP_CustomerPayments',\n",
      "       'LP_CustomerPrincipalPayments', 'LP_InterestandFees', 'LP_ServiceFees',\n",
      "       'LP_CollectionFees', 'LP_GrossPrincipalLoss', 'LP_NetPrincipalLoss',\n",
      "       'LP_NonPrincipalRecoverypayments', 'PercentFunded', 'Recommendations',\n",
      "       'InvestmentFromFriendsCount', 'InvestmentFromFriendsAmount',\n",
      "       'Investors'],\n",
      "      dtype='object')\n"
     ]
    }
   ],
   "source": [
    "print(\"Number of loans: \", len(ldf))\n",
    "print(\"Columns list:\")\n",
    "print(ldf.keys())"
   ]
  },
  {
   "cell_type": "markdown",
   "metadata": {},
   "source": [
    "That's a lot of variables, so we should prune with an eye towards what we're interested in. I'd like to see how BorrowerAPR, StatedMonthlyIncome, and ProsperScore (a score from 1-10 of borrower risk, with 10 being lowest risk/best) relate to each other. I would assume that those with a higher monthly income have a lower APR and a higher prosper score."
   ]
  },
  {
   "cell_type": "code",
   "execution_count": 268,
   "metadata": {
    "collapsed": true
   },
   "outputs": [],
   "source": [
    "ldf = ldf.filter(['LoanStatus', 'ProsperScore', 'IncomeRange', 'IncomeVerifiable',\n",
    "                  'StatedMonthlyIncome', 'BorrowerAPR', 'RevolvingCreditBalance',\n",
    "                 'DelinquenciesLast7Years', 'DebtToIncomeRatio'], axis=1)"
   ]
  },
  {
   "cell_type": "markdown",
   "metadata": {},
   "source": [
    "Next, we need to massage the data a bit. Let's have a look at the null amounts in each field."
   ]
  },
  {
   "cell_type": "code",
   "execution_count": 269,
   "metadata": {},
   "outputs": [
    {
     "data": {
      "text/plain": [
       "LoanStatus                     0\n",
       "ProsperScore               29084\n",
       "IncomeRange                    0\n",
       "IncomeVerifiable               0\n",
       "StatedMonthlyIncome            0\n",
       "BorrowerAPR                   25\n",
       "RevolvingCreditBalance      7604\n",
       "DelinquenciesLast7Years      990\n",
       "DebtToIncomeRatio           8554\n",
       "dtype: int64"
      ]
     },
     "execution_count": 269,
     "metadata": {},
     "output_type": "execute_result"
    }
   ],
   "source": [
    "ldf.isnull().sum()"
   ]
  },
  {
   "cell_type": "markdown",
   "metadata": {},
   "source": [
    "Looks like about a quarter of the data doesn't have a prosper score. In the data variable definitions document, prosper score is listed as \"applicable for loans originated after July 2009\", so they didn't use that score before then. Since we're interested in this score in particular, let's filter our data to exclude rows without this score.\n",
    "\n",
    "We also want to make sure we can trust the income, so we'll only pull income verifiable ones."
   ]
  },
  {
   "cell_type": "code",
   "execution_count": 270,
   "metadata": {
    "scrolled": true
   },
   "outputs": [
    {
     "data": {
      "text/plain": [
       "LoanStatus                  0\n",
       "ProsperScore                0\n",
       "IncomeRange                 0\n",
       "IncomeVerifiable            0\n",
       "StatedMonthlyIncome         0\n",
       "BorrowerAPR                 0\n",
       "RevolvingCreditBalance      0\n",
       "DelinquenciesLast7Years     0\n",
       "DebtToIncomeRatio          11\n",
       "dtype: int64"
      ]
     },
     "execution_count": 270,
     "metadata": {},
     "output_type": "execute_result"
    }
   ],
   "source": [
    "ldf = ldf[~ldf.isnull()['ProsperScore']]\n",
    "ldf = ldf[ldf['IncomeVerifiable']]\n",
    "ldf.isnull().sum()"
   ]
  },
  {
   "cell_type": "markdown",
   "metadata": {},
   "source": [
    "Theres just a few more loans without debt to income ratio, so let's nix those to have a complete dataset."
   ]
  },
  {
   "cell_type": "code",
   "execution_count": 273,
   "metadata": {},
   "outputs": [
    {
     "data": {
      "text/plain": [
       "LoanStatus                 0\n",
       "ProsperScore               0\n",
       "IncomeRange                0\n",
       "IncomeVerifiable           0\n",
       "StatedMonthlyIncome        0\n",
       "BorrowerAPR                0\n",
       "RevolvingCreditBalance     0\n",
       "DelinquenciesLast7Years    0\n",
       "DebtToIncomeRatio          0\n",
       "dtype: int64"
      ]
     },
     "execution_count": 273,
     "metadata": {},
     "output_type": "execute_result"
    }
   ],
   "source": [
    "ldf = ldf[~ldf.isnull()['DebtToIncomeRatio']]\n",
    "ldf.isnull().sum()"
   ]
  },
  {
   "cell_type": "markdown",
   "metadata": {},
   "source": [
    "Let's create another df to hold just the defaulted and completed loans so we can see the difference between them relative to the prosperity score."
   ]
  },
  {
   "cell_type": "code",
   "execution_count": 274,
   "metadata": {},
   "outputs": [
    {
     "data": {
      "text/html": [
       "<div>\n",
       "<table border=\"1\" class=\"dataframe\">\n",
       "  <thead>\n",
       "    <tr style=\"text-align: right;\">\n",
       "      <th></th>\n",
       "      <th>LoanStatus</th>\n",
       "      <th>ProsperScore</th>\n",
       "      <th>IncomeRange</th>\n",
       "      <th>IncomeVerifiable</th>\n",
       "      <th>StatedMonthlyIncome</th>\n",
       "      <th>BorrowerAPR</th>\n",
       "      <th>RevolvingCreditBalance</th>\n",
       "      <th>DelinquenciesLast7Years</th>\n",
       "      <th>DebtToIncomeRatio</th>\n",
       "    </tr>\n",
       "  </thead>\n",
       "  <tbody>\n",
       "    <tr>\n",
       "      <th>15</th>\n",
       "      <td>Defaulted</td>\n",
       "      <td>5.0</td>\n",
       "      <td>$50,000-74,999</td>\n",
       "      <td>True</td>\n",
       "      <td>5500.000000</td>\n",
       "      <td>0.35797</td>\n",
       "      <td>9103.0</td>\n",
       "      <td>0.0</td>\n",
       "      <td>0.49</td>\n",
       "    </tr>\n",
       "    <tr>\n",
       "      <th>23</th>\n",
       "      <td>Defaulted</td>\n",
       "      <td>5.0</td>\n",
       "      <td>$25,000-49,999</td>\n",
       "      <td>True</td>\n",
       "      <td>2500.000000</td>\n",
       "      <td>0.28032</td>\n",
       "      <td>7975.0</td>\n",
       "      <td>0.0</td>\n",
       "      <td>0.39</td>\n",
       "    </tr>\n",
       "    <tr>\n",
       "      <th>26</th>\n",
       "      <td>Completed</td>\n",
       "      <td>3.0</td>\n",
       "      <td>$25,000-49,999</td>\n",
       "      <td>True</td>\n",
       "      <td>3885.916667</td>\n",
       "      <td>0.30748</td>\n",
       "      <td>2033.0</td>\n",
       "      <td>0.0</td>\n",
       "      <td>0.11</td>\n",
       "    </tr>\n",
       "    <tr>\n",
       "      <th>27</th>\n",
       "      <td>Completed</td>\n",
       "      <td>9.0</td>\n",
       "      <td>$75,000-99,999</td>\n",
       "      <td>True</td>\n",
       "      <td>6666.666667</td>\n",
       "      <td>0.11296</td>\n",
       "      <td>7246.0</td>\n",
       "      <td>0.0</td>\n",
       "      <td>0.26</td>\n",
       "    </tr>\n",
       "    <tr>\n",
       "      <th>30</th>\n",
       "      <td>Completed</td>\n",
       "      <td>9.0</td>\n",
       "      <td>$25,000-49,999</td>\n",
       "      <td>True</td>\n",
       "      <td>3750.000000</td>\n",
       "      <td>0.12782</td>\n",
       "      <td>4307.0</td>\n",
       "      <td>10.0</td>\n",
       "      <td>0.11</td>\n",
       "    </tr>\n",
       "  </tbody>\n",
       "</table>\n",
       "</div>"
      ],
      "text/plain": [
       "   LoanStatus  ProsperScore     IncomeRange IncomeVerifiable  \\\n",
       "15  Defaulted           5.0  $50,000-74,999             True   \n",
       "23  Defaulted           5.0  $25,000-49,999             True   \n",
       "26  Completed           3.0  $25,000-49,999             True   \n",
       "27  Completed           9.0  $75,000-99,999             True   \n",
       "30  Completed           9.0  $25,000-49,999             True   \n",
       "\n",
       "    StatedMonthlyIncome  BorrowerAPR  RevolvingCreditBalance  \\\n",
       "15          5500.000000      0.35797                  9103.0   \n",
       "23          2500.000000      0.28032                  7975.0   \n",
       "26          3885.916667      0.30748                  2033.0   \n",
       "27          6666.666667      0.11296                  7246.0   \n",
       "30          3750.000000      0.12782                  4307.0   \n",
       "\n",
       "    DelinquenciesLast7Years  DebtToIncomeRatio  \n",
       "15                      0.0               0.49  \n",
       "23                      0.0               0.39  \n",
       "26                      0.0               0.11  \n",
       "27                      0.0               0.26  \n",
       "30                     10.0               0.11  "
      ]
     },
     "execution_count": 274,
     "metadata": {},
     "output_type": "execute_result"
    }
   ],
   "source": [
    "ldf_compdef = ldf[(ldf['LoanStatus'] == 'Completed') | (ldf['LoanStatus'] == 'Defaulted')]\n",
    "ldf_compdef.head(5)"
   ]
  },
  {
   "cell_type": "code",
   "execution_count": 275,
   "metadata": {},
   "outputs": [
    {
     "data": {
      "text/plain": [
       "ProsperScore\n",
       "1.0       721\n",
       "2.0      4812\n",
       "3.0      6569\n",
       "4.0     11148\n",
       "5.0      8773\n",
       "6.0     11307\n",
       "7.0      9963\n",
       "8.0     11542\n",
       "9.0      6624\n",
       "10.0     4638\n",
       "11.0     1412\n",
       "Name: LoanStatus, dtype: int64"
      ]
     },
     "execution_count": 275,
     "metadata": {},
     "output_type": "execute_result"
    }
   ],
   "source": [
    "ldf_prosp = ldf.groupby('ProsperScore')['LoanStatus'].count()\n",
    "ldf_prosp"
   ]
  },
  {
   "cell_type": "markdown",
   "metadata": {},
   "source": [
    "There are some 11 prosper scores here, while the definition table shows 10 as the max score, so these are in some error. Let's have a look at those."
   ]
  },
  {
   "cell_type": "code",
   "execution_count": 276,
   "metadata": {},
   "outputs": [
    {
     "data": {
      "text/plain": [
       "count    1412.000000\n",
       "mean        0.112064\n",
       "std         0.034910\n",
       "min         0.067260\n",
       "25%         0.079220\n",
       "50%         0.100380\n",
       "75%         0.137990\n",
       "max         0.224150\n",
       "Name: BorrowerAPR, dtype: float64"
      ]
     },
     "execution_count": 276,
     "metadata": {},
     "output_type": "execute_result"
    }
   ],
   "source": [
    "ldf_10s = ldf[ldf['ProsperScore'] == 10.0]\n",
    "ldf_11s = ldf[ldf['ProsperScore'] == 11.0]\n",
    "ldf_11s['BorrowerAPR'].describe()"
   ]
  },
  {
   "cell_type": "code",
   "execution_count": 277,
   "metadata": {},
   "outputs": [
    {
     "data": {
      "text/plain": [
       "count    4638.000000\n",
       "mean        0.115289\n",
       "std         0.041802\n",
       "min         0.045830\n",
       "25%         0.083250\n",
       "50%         0.108620\n",
       "75%         0.141470\n",
       "max         0.391530\n",
       "Name: BorrowerAPR, dtype: float64"
      ]
     },
     "execution_count": 277,
     "metadata": {},
     "output_type": "execute_result"
    }
   ],
   "source": [
    "ldf_10s['BorrowerAPR'].describe()"
   ]
  },
  {
   "cell_type": "code",
   "execution_count": 278,
   "metadata": {},
   "outputs": [
    {
     "data": {
      "text/plain": [
       "count    77509.000000\n",
       "mean         0.223722\n",
       "std          0.079167\n",
       "min          0.045830\n",
       "25%          0.161750\n",
       "50%          0.215660\n",
       "75%          0.287800\n",
       "max          0.423950\n",
       "Name: BorrowerAPR, dtype: float64"
      ]
     },
     "execution_count": 278,
     "metadata": {},
     "output_type": "execute_result"
    }
   ],
   "source": [
    "ldf['BorrowerAPR'].describe()"
   ]
  },
  {
   "cell_type": "markdown",
   "metadata": {},
   "source": [
    "It looks like the 11's were given slightly better APR's than the 10s and they are clearly given far better APRs than the average, so it appears 11 is pretty much a bit better than 10, so this seems to be valid."
   ]
  },
  {
   "cell_type": "code",
   "execution_count": 279,
   "metadata": {},
   "outputs": [
    {
     "data": {
      "text/plain": [
       "IncomeRange\n",
       "$1-24,999          3838\n",
       "$100,000+         14012\n",
       "$25,000-49,999    22004\n",
       "$50,000-74,999    24015\n",
       "$75,000-99,999    13639\n",
       "Not employed          1\n",
       "Name: LoanStatus, dtype: int64"
      ]
     },
     "execution_count": 279,
     "metadata": {},
     "output_type": "execute_result"
    }
   ],
   "source": [
    "ldf_incomer = ldf.groupby('IncomeRange')['LoanStatus'].count()\n",
    "ldf_incomer"
   ]
  },
  {
   "cell_type": "markdown",
   "metadata": {},
   "source": [
    "It looks like there were extremely few unemployed or 0 income loans, and given the nature of loans, these are likely to be incorrect or incomplete values, so we should remove these to reduce unneeded clutter in our data."
   ]
  },
  {
   "cell_type": "code",
   "execution_count": 280,
   "metadata": {},
   "outputs": [
    {
     "data": {
      "text/plain": [
       "IncomeRange\n",
       "$1-24,999          3838\n",
       "$100,000+         14012\n",
       "$25,000-49,999    22004\n",
       "$50,000-74,999    24015\n",
       "$75,000-99,999    13639\n",
       "Name: LoanStatus, dtype: int64"
      ]
     },
     "execution_count": 280,
     "metadata": {},
     "output_type": "execute_result"
    }
   ],
   "source": [
    "ldf = ldf[(ldf['IncomeRange'] != '$0') & (ldf['IncomeRange'] != 'Not employed')]\n",
    "ldf_incomer = ldf.groupby('IncomeRange')['LoanStatus'].count()\n",
    "ldf_incomer"
   ]
  },
  {
   "cell_type": "code",
   "execution_count": 281,
   "metadata": {},
   "outputs": [
    {
     "name": "stdout",
     "output_type": "stream",
     "text": [
      "New amount of loans:  77508\n"
     ]
    }
   ],
   "source": [
    "print(\"New amount of loans: \", len(ldf))"
   ]
  },
  {
   "cell_type": "markdown",
   "metadata": {},
   "source": [
    "Now we have only the data we need, on 20,669 loans. It looks like a small portion of the loans didn't have a listed occupation, so perhaps it wasn't a required field in the application. However, this doesn't relate to the main question, I just want to look at it as a secondary feature, so this should be fine.\n",
    "\n",
    "Let's have a look at our now that we've cleaned it up."
   ]
  },
  {
   "cell_type": "code",
   "execution_count": 282,
   "metadata": {},
   "outputs": [
    {
     "data": {
      "text/html": [
       "<div>\n",
       "<table border=\"1\" class=\"dataframe\">\n",
       "  <thead>\n",
       "    <tr style=\"text-align: right;\">\n",
       "      <th></th>\n",
       "      <th>LoanStatus</th>\n",
       "      <th>ProsperScore</th>\n",
       "      <th>IncomeRange</th>\n",
       "      <th>IncomeVerifiable</th>\n",
       "      <th>StatedMonthlyIncome</th>\n",
       "      <th>BorrowerAPR</th>\n",
       "      <th>RevolvingCreditBalance</th>\n",
       "      <th>DelinquenciesLast7Years</th>\n",
       "      <th>DebtToIncomeRatio</th>\n",
       "    </tr>\n",
       "  </thead>\n",
       "  <tbody>\n",
       "    <tr>\n",
       "      <th>1</th>\n",
       "      <td>Current</td>\n",
       "      <td>7.0</td>\n",
       "      <td>$50,000-74,999</td>\n",
       "      <td>True</td>\n",
       "      <td>6125.000000</td>\n",
       "      <td>0.12016</td>\n",
       "      <td>3989.0</td>\n",
       "      <td>0.0</td>\n",
       "      <td>0.18</td>\n",
       "    </tr>\n",
       "    <tr>\n",
       "      <th>3</th>\n",
       "      <td>Current</td>\n",
       "      <td>9.0</td>\n",
       "      <td>$25,000-49,999</td>\n",
       "      <td>True</td>\n",
       "      <td>2875.000000</td>\n",
       "      <td>0.12528</td>\n",
       "      <td>1444.0</td>\n",
       "      <td>14.0</td>\n",
       "      <td>0.15</td>\n",
       "    </tr>\n",
       "    <tr>\n",
       "      <th>4</th>\n",
       "      <td>Current</td>\n",
       "      <td>4.0</td>\n",
       "      <td>$100,000+</td>\n",
       "      <td>True</td>\n",
       "      <td>9583.333333</td>\n",
       "      <td>0.24614</td>\n",
       "      <td>6193.0</td>\n",
       "      <td>0.0</td>\n",
       "      <td>0.26</td>\n",
       "    </tr>\n",
       "    <tr>\n",
       "      <th>5</th>\n",
       "      <td>Current</td>\n",
       "      <td>10.0</td>\n",
       "      <td>$100,000+</td>\n",
       "      <td>True</td>\n",
       "      <td>8333.333333</td>\n",
       "      <td>0.15425</td>\n",
       "      <td>62999.0</td>\n",
       "      <td>0.0</td>\n",
       "      <td>0.36</td>\n",
       "    </tr>\n",
       "    <tr>\n",
       "      <th>6</th>\n",
       "      <td>Current</td>\n",
       "      <td>2.0</td>\n",
       "      <td>$25,000-49,999</td>\n",
       "      <td>True</td>\n",
       "      <td>2083.333333</td>\n",
       "      <td>0.31032</td>\n",
       "      <td>5812.0</td>\n",
       "      <td>0.0</td>\n",
       "      <td>0.27</td>\n",
       "    </tr>\n",
       "    <tr>\n",
       "      <th>7</th>\n",
       "      <td>Current</td>\n",
       "      <td>4.0</td>\n",
       "      <td>$25,000-49,999</td>\n",
       "      <td>True</td>\n",
       "      <td>3355.750000</td>\n",
       "      <td>0.23939</td>\n",
       "      <td>1260.0</td>\n",
       "      <td>0.0</td>\n",
       "      <td>0.24</td>\n",
       "    </tr>\n",
       "    <tr>\n",
       "      <th>8</th>\n",
       "      <td>Current</td>\n",
       "      <td>9.0</td>\n",
       "      <td>$25,000-49,999</td>\n",
       "      <td>True</td>\n",
       "      <td>3333.333333</td>\n",
       "      <td>0.07620</td>\n",
       "      <td>9906.0</td>\n",
       "      <td>0.0</td>\n",
       "      <td>0.25</td>\n",
       "    </tr>\n",
       "    <tr>\n",
       "      <th>9</th>\n",
       "      <td>Current</td>\n",
       "      <td>11.0</td>\n",
       "      <td>$25,000-49,999</td>\n",
       "      <td>True</td>\n",
       "      <td>3333.333333</td>\n",
       "      <td>0.07620</td>\n",
       "      <td>9906.0</td>\n",
       "      <td>0.0</td>\n",
       "      <td>0.25</td>\n",
       "    </tr>\n",
       "    <tr>\n",
       "      <th>10</th>\n",
       "      <td>Current</td>\n",
       "      <td>7.0</td>\n",
       "      <td>$75,000-99,999</td>\n",
       "      <td>True</td>\n",
       "      <td>7500.000000</td>\n",
       "      <td>0.27462</td>\n",
       "      <td>387.0</td>\n",
       "      <td>28.0</td>\n",
       "      <td>0.12</td>\n",
       "    </tr>\n",
       "    <tr>\n",
       "      <th>12</th>\n",
       "      <td>Past Due (1-15 days)</td>\n",
       "      <td>4.0</td>\n",
       "      <td>$25,000-49,999</td>\n",
       "      <td>True</td>\n",
       "      <td>2416.666667</td>\n",
       "      <td>0.17969</td>\n",
       "      <td>8624.0</td>\n",
       "      <td>0.0</td>\n",
       "      <td>0.18</td>\n",
       "    </tr>\n",
       "  </tbody>\n",
       "</table>\n",
       "</div>"
      ],
      "text/plain": [
       "              LoanStatus  ProsperScore     IncomeRange IncomeVerifiable  \\\n",
       "1                Current           7.0  $50,000-74,999             True   \n",
       "3                Current           9.0  $25,000-49,999             True   \n",
       "4                Current           4.0       $100,000+             True   \n",
       "5                Current          10.0       $100,000+             True   \n",
       "6                Current           2.0  $25,000-49,999             True   \n",
       "7                Current           4.0  $25,000-49,999             True   \n",
       "8                Current           9.0  $25,000-49,999             True   \n",
       "9                Current          11.0  $25,000-49,999             True   \n",
       "10               Current           7.0  $75,000-99,999             True   \n",
       "12  Past Due (1-15 days)           4.0  $25,000-49,999             True   \n",
       "\n",
       "    StatedMonthlyIncome  BorrowerAPR  RevolvingCreditBalance  \\\n",
       "1           6125.000000      0.12016                  3989.0   \n",
       "3           2875.000000      0.12528                  1444.0   \n",
       "4           9583.333333      0.24614                  6193.0   \n",
       "5           8333.333333      0.15425                 62999.0   \n",
       "6           2083.333333      0.31032                  5812.0   \n",
       "7           3355.750000      0.23939                  1260.0   \n",
       "8           3333.333333      0.07620                  9906.0   \n",
       "9           3333.333333      0.07620                  9906.0   \n",
       "10          7500.000000      0.27462                   387.0   \n",
       "12          2416.666667      0.17969                  8624.0   \n",
       "\n",
       "    DelinquenciesLast7Years  DebtToIncomeRatio  \n",
       "1                       0.0               0.18  \n",
       "3                      14.0               0.15  \n",
       "4                       0.0               0.26  \n",
       "5                       0.0               0.36  \n",
       "6                       0.0               0.27  \n",
       "7                       0.0               0.24  \n",
       "8                       0.0               0.25  \n",
       "9                       0.0               0.25  \n",
       "10                     28.0               0.12  \n",
       "12                      0.0               0.18  "
      ]
     },
     "execution_count": 282,
     "metadata": {},
     "output_type": "execute_result"
    }
   ],
   "source": [
    "ldf.head(10)"
   ]
  },
  {
   "cell_type": "markdown",
   "metadata": {},
   "source": [
    "## Analysis"
   ]
  },
  {
   "cell_type": "code",
   "execution_count": 283,
   "metadata": {},
   "outputs": [
    {
     "data": {
      "text/plain": [
       "<matplotlib.axes._subplots.AxesSubplot at 0x2bb77a9edd8>"
      ]
     },
     "execution_count": 283,
     "metadata": {},
     "output_type": "execute_result"
    },
    {
     "data": {
      "image/png": "[encoded data removed]",
      "text/plain": [
       "<matplotlib.figure.Figure at 0x2bb220eff98>"
      ]
     },
     "metadata": {},
     "output_type": "display_data"
    }
   ],
   "source": [
    "%matplotlib inline\n",
    "\n",
    "sns.distplot(ldf.loc[:, 'ProsperScore'], bins=10, kde=False)"
   ]
  },
  {
   "cell_type": "markdown",
   "metadata": {},
   "source": [
    "Looks like a negatively skewed distribution. A score of 1-3 was quite infrequent, which makes sense since they would be less inclined to issue a loan to someone with the poorest risk score.\n",
    "\n",
    "Let's look at how the scores look for the members that defaulted versus those that completed their loan to start answering our main question."
   ]
  },
  {
   "cell_type": "code",
   "execution_count": 284,
   "metadata": {},
   "outputs": [
    {
     "data": {
      "text/plain": [
       "<matplotlib.axes._subplots.AxesSubplot at 0x2bb0128e898>"
      ]
     },
     "execution_count": 284,
     "metadata": {},
     "output_type": "execute_result"
    },
    {
     "data": {
      "image/png": "[encoded data removed]",
      "text/plain": [
       "<matplotlib.figure.Figure at 0x2bb7722ecf8>"
      ]
     },
     "metadata": {},
     "output_type": "display_data"
    }
   ],
   "source": [
    "ldf_defaulted = ldf[ldf['LoanStatus'] == 'Defaulted']\n",
    "ldf_completed = ldf[ldf['LoanStatus'] == 'Completed']\n",
    "\n",
    "fig, ax = plt.subplots(1, 2)\n",
    "sns.distplot(ldf_defaulted.loc[:, 'ProsperScore'], ax=ax[0], bins=10, kde=False)\n",
    "sns.distplot(ldf_completed.loc[:, 'ProsperScore'], ax=ax[1], bins=10, kde=False)"
   ]
  },
  {
   "cell_type": "code",
   "execution_count": 285,
   "metadata": {},
   "outputs": [
    {
     "data": {
      "image/png": "[encoded data removed]",
      "text/plain": [
       "<matplotlib.figure.Figure at 0x2bb2a175f28>"
      ]
     },
     "metadata": {},
     "output_type": "display_data"
    }
   ],
   "source": [
    "ldf_deforcomp = ldf_compdef.groupby('LoanStatus')['ProsperScore']\n",
    "for status, group in ldf_deforcomp:\n",
    "    g_chart = sns.distplot(group, label=status, bins=10)"
   ]
  },
  {
   "cell_type": "markdown",
   "metadata": {},
   "source": [
    "There is definitely a skew towards the better prosper scores for the completed loans. There are fewer 1-4 scores, many more 9+10 scores, and the middle scores move towards the higher end."
   ]
  },
  {
   "cell_type": "code",
   "execution_count": 286,
   "metadata": {},
   "outputs": [
    {
     "data": {
      "text/plain": [
       "ProsperScore  LoanStatus\n",
       "1.0           Completed      238\n",
       "              Defaulted       31\n",
       "2.0           Completed      681\n",
       "              Defaulted       61\n",
       "3.0           Completed      896\n",
       "              Defaulted       60\n",
       "4.0           Completed     1538\n",
       "              Defaulted       93\n",
       "5.0           Completed     1913\n",
       "              Defaulted      144\n",
       "6.0           Completed     2521\n",
       "              Defaulted      159\n",
       "7.0           Completed     2176\n",
       "              Defaulted      122\n",
       "8.0           Completed     3501\n",
       "              Defaulted      127\n",
       "9.0           Completed     2672\n",
       "              Defaulted       68\n",
       "10.0          Completed     1536\n",
       "              Defaulted       20\n",
       "11.0          Completed       30\n",
       "dtype: int64"
      ]
     },
     "execution_count": 286,
     "metadata": {},
     "output_type": "execute_result"
    }
   ],
   "source": [
    "ldf_grouped = ldf_compdef.groupby(['ProsperScore', 'LoanStatus'])\n",
    "ldf_grouped.size()"
   ]
  },
  {
   "cell_type": "code",
   "execution_count": 287,
   "metadata": {},
   "outputs": [
    {
     "data": {
      "text/plain": [
       "<matplotlib.axes._subplots.AxesSubplot at 0x2bb1ae820f0>"
      ]
     },
     "execution_count": 287,
     "metadata": {},
     "output_type": "execute_result"
    },
    {
     "data": {
      "image/png": "[encoded data removed]",
      "text/plain": [
       "<matplotlib.figure.Figure at 0x2bb78155080>"
      ]
     },
     "metadata": {},
     "output_type": "display_data"
    }
   ],
   "source": [
    "sns.boxplot(data=ldf_compdef, x=\"ProsperScore\", y=\"StatedMonthlyIncome\", hue=\"LoanStatus\", palette='muted', showfliers=False)"
   ]
  },
  {
   "cell_type": "markdown",
   "metadata": {},
   "source": [
    "There is definitely a trend here with higher prosper scores having higher completed rates, but the effect isn't clean enough to be particularly interesting. Let's instead see how APR plays into the equation."
   ]
  },
  {
   "cell_type": "code",
   "execution_count": 288,
   "metadata": {},
   "outputs": [
    {
     "data": {
      "text/plain": [
       "(0, 100000)"
      ]
     },
     "execution_count": 288,
     "metadata": {},
     "output_type": "execute_result"
    },
    {
     "data": {
      "image/png": "[encoded data removed]",
      "text/plain": [
       "<matplotlib.figure.Figure at 0x2bb00e8a400>"
      ]
     },
     "metadata": {},
     "output_type": "display_data"
    }
   ],
   "source": [
    "plt.scatter(ldf.BorrowerAPR, ldf.StatedMonthlyIncome, c=ldf.ProsperScore, cmap='viridis', alpha=0.5)\n",
    "plt.ylim(0, 100000)"
   ]
  },
  {
   "cell_type": "markdown",
   "metadata": {},
   "source": [
    "That's pretty neat, there's clearly a pattern here. The lower APR's are the ones that have the highest prosper score, and the trend is quite clean, you can even see the gradual transition from low apr/high prosper score and high apr, high prosper throughout the range. However, there are a tremendous amount of data points and it is difficult to see the pattern well. Let's try pivoting and aggregating the data."
   ]
  },
  {
   "cell_type": "code",
   "execution_count": 304,
   "metadata": {},
   "outputs": [
    {
     "data": {
      "text/html": [
       "<div>\n",
       "<table border=\"1\" class=\"dataframe\">\n",
       "  <thead>\n",
       "    <tr style=\"text-align: right;\">\n",
       "      <th>IncomeRange</th>\n",
       "      <th>$1-24,999</th>\n",
       "      <th>$25,000-49,999</th>\n",
       "      <th>$50,000-74,999</th>\n",
       "      <th>$75,000-99,999</th>\n",
       "      <th>$100,000+</th>\n",
       "    </tr>\n",
       "    <tr>\n",
       "      <th>ProsperScore</th>\n",
       "      <th></th>\n",
       "      <th></th>\n",
       "      <th></th>\n",
       "      <th></th>\n",
       "      <th></th>\n",
       "    </tr>\n",
       "  </thead>\n",
       "  <tbody>\n",
       "    <tr>\n",
       "      <th>1.0</th>\n",
       "      <td>0.342813</td>\n",
       "      <td>0.343241</td>\n",
       "      <td>0.336565</td>\n",
       "      <td>0.338544</td>\n",
       "      <td>0.339455</td>\n",
       "    </tr>\n",
       "    <tr>\n",
       "      <th>2.0</th>\n",
       "      <td>0.320189</td>\n",
       "      <td>0.310666</td>\n",
       "      <td>0.309138</td>\n",
       "      <td>0.305427</td>\n",
       "      <td>0.300778</td>\n",
       "    </tr>\n",
       "    <tr>\n",
       "      <th>3.0</th>\n",
       "      <td>0.305386</td>\n",
       "      <td>0.285537</td>\n",
       "      <td>0.282485</td>\n",
       "      <td>0.278471</td>\n",
       "      <td>0.273536</td>\n",
       "    </tr>\n",
       "    <tr>\n",
       "      <th>4.0</th>\n",
       "      <td>0.288987</td>\n",
       "      <td>0.262116</td>\n",
       "      <td>0.255456</td>\n",
       "      <td>0.252874</td>\n",
       "      <td>0.248881</td>\n",
       "    </tr>\n",
       "    <tr>\n",
       "      <th>5.0</th>\n",
       "      <td>0.301089</td>\n",
       "      <td>0.271789</td>\n",
       "      <td>0.254533</td>\n",
       "      <td>0.252653</td>\n",
       "      <td>0.246952</td>\n",
       "    </tr>\n",
       "    <tr>\n",
       "      <th>6.0</th>\n",
       "      <td>0.268737</td>\n",
       "      <td>0.248799</td>\n",
       "      <td>0.231801</td>\n",
       "      <td>0.228301</td>\n",
       "      <td>0.223585</td>\n",
       "    </tr>\n",
       "    <tr>\n",
       "      <th>7.0</th>\n",
       "      <td>0.244833</td>\n",
       "      <td>0.228249</td>\n",
       "      <td>0.209062</td>\n",
       "      <td>0.208011</td>\n",
       "      <td>0.206723</td>\n",
       "    </tr>\n",
       "    <tr>\n",
       "      <th>8.0</th>\n",
       "      <td>0.194733</td>\n",
       "      <td>0.188151</td>\n",
       "      <td>0.176709</td>\n",
       "      <td>0.176064</td>\n",
       "      <td>0.170423</td>\n",
       "    </tr>\n",
       "    <tr>\n",
       "      <th>9.0</th>\n",
       "      <td>0.150563</td>\n",
       "      <td>0.153905</td>\n",
       "      <td>0.148544</td>\n",
       "      <td>0.147314</td>\n",
       "      <td>0.146792</td>\n",
       "    </tr>\n",
       "    <tr>\n",
       "      <th>10.0</th>\n",
       "      <td>0.106497</td>\n",
       "      <td>0.118366</td>\n",
       "      <td>0.116496</td>\n",
       "      <td>0.113623</td>\n",
       "      <td>0.114875</td>\n",
       "    </tr>\n",
       "    <tr>\n",
       "      <th>11.0</th>\n",
       "      <td>0.130447</td>\n",
       "      <td>0.114273</td>\n",
       "      <td>0.110882</td>\n",
       "      <td>0.108230</td>\n",
       "      <td>0.114013</td>\n",
       "    </tr>\n",
       "  </tbody>\n",
       "</table>\n",
       "</div>"
      ],
      "text/plain": [
       "IncomeRange   $1-24,999  $25,000-49,999  $50,000-74,999  $75,000-99,999  \\\n",
       "ProsperScore                                                              \n",
       "1.0            0.342813        0.343241        0.336565        0.338544   \n",
       "2.0            0.320189        0.310666        0.309138        0.305427   \n",
       "3.0            0.305386        0.285537        0.282485        0.278471   \n",
       "4.0            0.288987        0.262116        0.255456        0.252874   \n",
       "5.0            0.301089        0.271789        0.254533        0.252653   \n",
       "6.0            0.268737        0.248799        0.231801        0.228301   \n",
       "7.0            0.244833        0.228249        0.209062        0.208011   \n",
       "8.0            0.194733        0.188151        0.176709        0.176064   \n",
       "9.0            0.150563        0.153905        0.148544        0.147314   \n",
       "10.0           0.106497        0.118366        0.116496        0.113623   \n",
       "11.0           0.130447        0.114273        0.110882        0.108230   \n",
       "\n",
       "IncomeRange   $100,000+  \n",
       "ProsperScore             \n",
       "1.0            0.339455  \n",
       "2.0            0.300778  \n",
       "3.0            0.273536  \n",
       "4.0            0.248881  \n",
       "5.0            0.246952  \n",
       "6.0            0.223585  \n",
       "7.0            0.206723  \n",
       "8.0            0.170423  \n",
       "9.0            0.146792  \n",
       "10.0           0.114875  \n",
       "11.0           0.114013  "
      ]
     },
     "execution_count": 304,
     "metadata": {},
     "output_type": "execute_result"
    },
    {
     "data": {
      "image/png": "[encoded data removed]",
      "text/plain": [
       "<matplotlib.figure.Figure at 0x2bb337407b8>"
      ]
     },
     "metadata": {},
     "output_type": "display_data"
    }
   ],
   "source": [
    "ldf_apr = pd.pivot_table(ldf, index='ProsperScore', columns='IncomeRange', values='BorrowerAPR')\n",
    "ldf_apr = ldf_apr[['$1-24,999', '$25,000-49,999',\n",
    "                     '$50,000-74,999', '$75,000-99,999','$100,000+']]\n",
    "ax = sns.heatmap(ldf_apr, cmap=\"summer\")\n",
    "ax.invert_yaxis()\n",
    "ldf_apr"
   ]
  },
  {
   "cell_type": "markdown",
   "metadata": {},
   "source": [
    "This heatmap paints the clearest picture yet. It is abundantly clear that the higher prospect scores get a lower APR. There is a trend of lower APR for higher stated income range as well, but the effect isn't nearly as large as the prospect score, which makes sense since the prospect score is likely to be their aggregate of overall risk taking into account other factors.\n",
    "\n",
    "The link between prosper score and income range is extremely intersting to me. If prospect score is effectively this loan companies definition of risk and reliability of a person, and income range plays into the chances of payback, I wonder how well these factors can paint a picture with respect to the other fields indicating recipient \"financial health\"."
   ]
  },
  {
   "cell_type": "code",
   "execution_count": 306,
   "metadata": {},
   "outputs": [
    {
     "data": {
      "text/html": [
       "<div>\n",
       "<table border=\"1\" class=\"dataframe\">\n",
       "  <thead>\n",
       "    <tr style=\"text-align: right;\">\n",
       "      <th>IncomeRange</th>\n",
       "      <th>$1-24,999</th>\n",
       "      <th>$25,000-49,999</th>\n",
       "      <th>$50,000-74,999</th>\n",
       "      <th>$75,000-99,999</th>\n",
       "      <th>$100,000+</th>\n",
       "    </tr>\n",
       "    <tr>\n",
       "      <th>ProsperScore</th>\n",
       "      <th></th>\n",
       "      <th></th>\n",
       "      <th></th>\n",
       "      <th></th>\n",
       "      <th></th>\n",
       "    </tr>\n",
       "  </thead>\n",
       "  <tbody>\n",
       "    <tr>\n",
       "      <th>1.0</th>\n",
       "      <td>4411.089286</td>\n",
       "      <td>8027.418803</td>\n",
       "      <td>12648.013158</td>\n",
       "      <td>17055.682692</td>\n",
       "      <td>38980.828283</td>\n",
       "    </tr>\n",
       "    <tr>\n",
       "      <th>2.0</th>\n",
       "      <td>7510.821990</td>\n",
       "      <td>10059.238928</td>\n",
       "      <td>14952.826657</td>\n",
       "      <td>19617.181948</td>\n",
       "      <td>42423.971698</td>\n",
       "    </tr>\n",
       "    <tr>\n",
       "      <th>3.0</th>\n",
       "      <td>7184.394477</td>\n",
       "      <td>10519.220446</td>\n",
       "      <td>14491.397528</td>\n",
       "      <td>20447.525926</td>\n",
       "      <td>35542.030075</td>\n",
       "    </tr>\n",
       "    <tr>\n",
       "      <th>4.0</th>\n",
       "      <td>6406.085333</td>\n",
       "      <td>9995.117769</td>\n",
       "      <td>15094.776781</td>\n",
       "      <td>21488.865663</td>\n",
       "      <td>35957.426022</td>\n",
       "    </tr>\n",
       "    <tr>\n",
       "      <th>5.0</th>\n",
       "      <td>7122.477612</td>\n",
       "      <td>10320.865811</td>\n",
       "      <td>16544.017112</td>\n",
       "      <td>21503.238165</td>\n",
       "      <td>35585.389787</td>\n",
       "    </tr>\n",
       "    <tr>\n",
       "      <th>6.0</th>\n",
       "      <td>5747.567398</td>\n",
       "      <td>9070.229690</td>\n",
       "      <td>14595.883311</td>\n",
       "      <td>21208.071962</td>\n",
       "      <td>34430.900356</td>\n",
       "    </tr>\n",
       "    <tr>\n",
       "      <th>7.0</th>\n",
       "      <td>5580.486842</td>\n",
       "      <td>8431.612442</td>\n",
       "      <td>14777.352125</td>\n",
       "      <td>21605.520021</td>\n",
       "      <td>36545.805618</td>\n",
       "    </tr>\n",
       "    <tr>\n",
       "      <th>8.0</th>\n",
       "      <td>5785.766304</td>\n",
       "      <td>8614.533843</td>\n",
       "      <td>13874.615258</td>\n",
       "      <td>20357.071333</td>\n",
       "      <td>37221.245786</td>\n",
       "    </tr>\n",
       "    <tr>\n",
       "      <th>9.0</th>\n",
       "      <td>5040.816327</td>\n",
       "      <td>8351.927299</td>\n",
       "      <td>14368.201613</td>\n",
       "      <td>19428.696882</td>\n",
       "      <td>34334.762712</td>\n",
       "    </tr>\n",
       "    <tr>\n",
       "      <th>10.0</th>\n",
       "      <td>7093.617647</td>\n",
       "      <td>9458.068053</td>\n",
       "      <td>15415.095238</td>\n",
       "      <td>18385.360220</td>\n",
       "      <td>33952.463472</td>\n",
       "    </tr>\n",
       "    <tr>\n",
       "      <th>11.0</th>\n",
       "      <td>5271.500000</td>\n",
       "      <td>7535.669492</td>\n",
       "      <td>13110.764706</td>\n",
       "      <td>17648.737705</td>\n",
       "      <td>38023.234824</td>\n",
       "    </tr>\n",
       "  </tbody>\n",
       "</table>\n",
       "</div>"
      ],
      "text/plain": [
       "IncomeRange     $1-24,999  $25,000-49,999  $50,000-74,999  $75,000-99,999  \\\n",
       "ProsperScore                                                                \n",
       "1.0           4411.089286     8027.418803    12648.013158    17055.682692   \n",
       "2.0           7510.821990    10059.238928    14952.826657    19617.181948   \n",
       "3.0           7184.394477    10519.220446    14491.397528    20447.525926   \n",
       "4.0           6406.085333     9995.117769    15094.776781    21488.865663   \n",
       "5.0           7122.477612    10320.865811    16544.017112    21503.238165   \n",
       "6.0           5747.567398     9070.229690    14595.883311    21208.071962   \n",
       "7.0           5580.486842     8431.612442    14777.352125    21605.520021   \n",
       "8.0           5785.766304     8614.533843    13874.615258    20357.071333   \n",
       "9.0           5040.816327     8351.927299    14368.201613    19428.696882   \n",
       "10.0          7093.617647     9458.068053    15415.095238    18385.360220   \n",
       "11.0          5271.500000     7535.669492    13110.764706    17648.737705   \n",
       "\n",
       "IncomeRange      $100,000+  \n",
       "ProsperScore                \n",
       "1.0           38980.828283  \n",
       "2.0           42423.971698  \n",
       "3.0           35542.030075  \n",
       "4.0           35957.426022  \n",
       "5.0           35585.389787  \n",
       "6.0           34430.900356  \n",
       "7.0           36545.805618  \n",
       "8.0           37221.245786  \n",
       "9.0           34334.762712  \n",
       "10.0          33952.463472  \n",
       "11.0          38023.234824  "
      ]
     },
     "execution_count": 306,
     "metadata": {},
     "output_type": "execute_result"
    },
    {
     "data": {
      "image/png": "[encoded data removed]",
      "text/plain": [
       "<matplotlib.figure.Figure at 0x2bb2a2104a8>"
      ]
     },
     "metadata": {},
     "output_type": "display_data"
    }
   ],
   "source": [
    "ldf_balance = pd.pivot_table(ldf, index='ProsperScore', columns='IncomeRange', values='RevolvingCreditBalance')\n",
    "ldf_balance = ldf_balance[['$1-24,999', '$25,000-49,999',\n",
    "                        '$50,000-74,999', '$75,000-99,999','$100,000+']]\n",
    "ax = sns.heatmap(ldf_balance, cmap=\"summer_r\")\n",
    "ax.invert_yaxis()\n",
    "ldf_balance"
   ]
  },
  {
   "cell_type": "markdown",
   "metadata": {},
   "source": [
    "Interesting! The relationship here is reversed. Higher incomes clearly produce higher revolving debt, but the prospect score isn't very much affected by revolving debt, if at all. It seems people giving out loans don't believe a higher level of revolving debt is an indicator of increased risk, at ANY income level."
   ]
  },
  {
   "cell_type": "code",
   "execution_count": 309,
   "metadata": {},
   "outputs": [
    {
     "data": {
      "text/html": [
       "<div>\n",
       "<table border=\"1\" class=\"dataframe\">\n",
       "  <thead>\n",
       "    <tr style=\"text-align: right;\">\n",
       "      <th>IncomeRange</th>\n",
       "      <th>$1-24,999</th>\n",
       "      <th>$25,000-49,999</th>\n",
       "      <th>$50,000-74,999</th>\n",
       "      <th>$75,000-99,999</th>\n",
       "      <th>$100,000+</th>\n",
       "    </tr>\n",
       "    <tr>\n",
       "      <th>ProsperScore</th>\n",
       "      <th></th>\n",
       "      <th></th>\n",
       "      <th></th>\n",
       "      <th></th>\n",
       "      <th></th>\n",
       "    </tr>\n",
       "  </thead>\n",
       "  <tbody>\n",
       "    <tr>\n",
       "      <th>1.0</th>\n",
       "      <td>1.054107</td>\n",
       "      <td>0.436154</td>\n",
       "      <td>0.360746</td>\n",
       "      <td>0.318750</td>\n",
       "      <td>0.320707</td>\n",
       "    </tr>\n",
       "    <tr>\n",
       "      <th>2.0</th>\n",
       "      <td>0.714791</td>\n",
       "      <td>0.325878</td>\n",
       "      <td>0.272294</td>\n",
       "      <td>0.235702</td>\n",
       "      <td>0.212755</td>\n",
       "    </tr>\n",
       "    <tr>\n",
       "      <th>3.0</th>\n",
       "      <td>0.768994</td>\n",
       "      <td>0.325515</td>\n",
       "      <td>0.281339</td>\n",
       "      <td>0.245460</td>\n",
       "      <td>0.210175</td>\n",
       "    </tr>\n",
       "    <tr>\n",
       "      <th>4.0</th>\n",
       "      <td>0.554133</td>\n",
       "      <td>0.313035</td>\n",
       "      <td>0.276471</td>\n",
       "      <td>0.244412</td>\n",
       "      <td>0.207413</td>\n",
       "    </tr>\n",
       "    <tr>\n",
       "      <th>5.0</th>\n",
       "      <td>0.645877</td>\n",
       "      <td>0.306727</td>\n",
       "      <td>0.269362</td>\n",
       "      <td>0.233372</td>\n",
       "      <td>0.199523</td>\n",
       "    </tr>\n",
       "    <tr>\n",
       "      <th>6.0</th>\n",
       "      <td>0.600549</td>\n",
       "      <td>0.281555</td>\n",
       "      <td>0.254114</td>\n",
       "      <td>0.227116</td>\n",
       "      <td>0.191210</td>\n",
       "    </tr>\n",
       "    <tr>\n",
       "      <th>7.0</th>\n",
       "      <td>0.463579</td>\n",
       "      <td>0.257709</td>\n",
       "      <td>0.238550</td>\n",
       "      <td>0.217076</td>\n",
       "      <td>0.183360</td>\n",
       "    </tr>\n",
       "    <tr>\n",
       "      <th>8.0</th>\n",
       "      <td>0.379701</td>\n",
       "      <td>0.237638</td>\n",
       "      <td>0.222614</td>\n",
       "      <td>0.197766</td>\n",
       "      <td>0.174022</td>\n",
       "    </tr>\n",
       "    <tr>\n",
       "      <th>9.0</th>\n",
       "      <td>0.275850</td>\n",
       "      <td>0.220128</td>\n",
       "      <td>0.203246</td>\n",
       "      <td>0.182422</td>\n",
       "      <td>0.163741</td>\n",
       "    </tr>\n",
       "    <tr>\n",
       "      <th>10.0</th>\n",
       "      <td>0.324118</td>\n",
       "      <td>0.215841</td>\n",
       "      <td>0.199895</td>\n",
       "      <td>0.170018</td>\n",
       "      <td>0.145897</td>\n",
       "    </tr>\n",
       "    <tr>\n",
       "      <th>11.0</th>\n",
       "      <td>0.405000</td>\n",
       "      <td>0.237966</td>\n",
       "      <td>0.230532</td>\n",
       "      <td>0.199049</td>\n",
       "      <td>0.175431</td>\n",
       "    </tr>\n",
       "  </tbody>\n",
       "</table>\n",
       "</div>"
      ],
      "text/plain": [
       "IncomeRange   $1-24,999  $25,000-49,999  $50,000-74,999  $75,000-99,999  \\\n",
       "ProsperScore                                                              \n",
       "1.0            1.054107        0.436154        0.360746        0.318750   \n",
       "2.0            0.714791        0.325878        0.272294        0.235702   \n",
       "3.0            0.768994        0.325515        0.281339        0.245460   \n",
       "4.0            0.554133        0.313035        0.276471        0.244412   \n",
       "5.0            0.645877        0.306727        0.269362        0.233372   \n",
       "6.0            0.600549        0.281555        0.254114        0.227116   \n",
       "7.0            0.463579        0.257709        0.238550        0.217076   \n",
       "8.0            0.379701        0.237638        0.222614        0.197766   \n",
       "9.0            0.275850        0.220128        0.203246        0.182422   \n",
       "10.0           0.324118        0.215841        0.199895        0.170018   \n",
       "11.0           0.405000        0.237966        0.230532        0.199049   \n",
       "\n",
       "IncomeRange   $100,000+  \n",
       "ProsperScore             \n",
       "1.0            0.320707  \n",
       "2.0            0.212755  \n",
       "3.0            0.210175  \n",
       "4.0            0.207413  \n",
       "5.0            0.199523  \n",
       "6.0            0.191210  \n",
       "7.0            0.183360  \n",
       "8.0            0.174022  \n",
       "9.0            0.163741  \n",
       "10.0           0.145897  \n",
       "11.0           0.175431  "
      ]
     },
     "execution_count": 309,
     "metadata": {},
     "output_type": "execute_result"
    },
    {
     "data": {
      "image/png": "[encoded data removed]",
      "text/plain": [
       "<matplotlib.figure.Figure at 0x2bb3bafc2b0>"
      ]
     },
     "metadata": {},
     "output_type": "display_data"
    }
   ],
   "source": [
    "ldf_ratio = pd.pivot_table(ldf, index='ProsperScore', columns='IncomeRange', values='DebtToIncomeRatio')\n",
    "ldf_ratio = ldf_ratio[['$1-24,999', '$25,000-49,999',\n",
    "                        '$50,000-74,999', '$75,000-99,999','$100,000+']]\n",
    "ax = sns.heatmap(ldf_ratio, cmap=\"summer_r\")\n",
    "ax.invert_yaxis()\n",
    "ldf_ratio"
   ]
  },
  {
   "cell_type": "markdown",
   "metadata": {},
   "source": [
    "Here, it seems that there is a link between debt to income ratio and prosper score. It seems the lowest prosper scores have the worst debt to income ratio, but the pattern is most clearly noticable at the lowest income range. This likely indicates that a high debt to income ratio is only seen as very risky when income is low. At all the other income ranges, risk is relatively unaffected by debt to income ratio."
   ]
  },
  {
   "cell_type": "code",
   "execution_count": 312,
   "metadata": {},
   "outputs": [
    {
     "data": {
      "text/html": [
       "<div>\n",
       "<table border=\"1\" class=\"dataframe\">\n",
       "  <thead>\n",
       "    <tr style=\"text-align: right;\">\n",
       "      <th>IncomeRange</th>\n",
       "      <th>$1-24,999</th>\n",
       "      <th>$25,000-49,999</th>\n",
       "      <th>$50,000-74,999</th>\n",
       "      <th>$75,000-99,999</th>\n",
       "      <th>$100,000+</th>\n",
       "    </tr>\n",
       "    <tr>\n",
       "      <th>ProsperScore</th>\n",
       "      <th></th>\n",
       "      <th></th>\n",
       "      <th></th>\n",
       "      <th></th>\n",
       "      <th></th>\n",
       "    </tr>\n",
       "  </thead>\n",
       "  <tbody>\n",
       "    <tr>\n",
       "      <th>1.0</th>\n",
       "      <td>8.321429</td>\n",
       "      <td>7.944444</td>\n",
       "      <td>7.302632</td>\n",
       "      <td>7.423077</td>\n",
       "      <td>4.666667</td>\n",
       "    </tr>\n",
       "    <tr>\n",
       "      <th>2.0</th>\n",
       "      <td>4.683246</td>\n",
       "      <td>5.022417</td>\n",
       "      <td>5.550619</td>\n",
       "      <td>6.773639</td>\n",
       "      <td>3.545283</td>\n",
       "    </tr>\n",
       "    <tr>\n",
       "      <th>3.0</th>\n",
       "      <td>4.544379</td>\n",
       "      <td>4.670593</td>\n",
       "      <td>4.994851</td>\n",
       "      <td>4.839153</td>\n",
       "      <td>5.066416</td>\n",
       "    </tr>\n",
       "    <tr>\n",
       "      <th>4.0</th>\n",
       "      <td>3.434667</td>\n",
       "      <td>4.069990</td>\n",
       "      <td>4.735090</td>\n",
       "      <td>4.918356</td>\n",
       "      <td>4.413383</td>\n",
       "    </tr>\n",
       "    <tr>\n",
       "      <th>5.0</th>\n",
       "      <td>3.039179</td>\n",
       "      <td>3.820735</td>\n",
       "      <td>4.484135</td>\n",
       "      <td>4.558631</td>\n",
       "      <td>4.220426</td>\n",
       "    </tr>\n",
       "    <tr>\n",
       "      <th>6.0</th>\n",
       "      <td>3.103448</td>\n",
       "      <td>4.102279</td>\n",
       "      <td>3.770149</td>\n",
       "      <td>4.399254</td>\n",
       "      <td>3.858244</td>\n",
       "    </tr>\n",
       "    <tr>\n",
       "      <th>7.0</th>\n",
       "      <td>2.997368</td>\n",
       "      <td>4.094281</td>\n",
       "      <td>4.179982</td>\n",
       "      <td>3.647524</td>\n",
       "      <td>3.164607</td>\n",
       "    </tr>\n",
       "    <tr>\n",
       "      <th>8.0</th>\n",
       "      <td>2.119565</td>\n",
       "      <td>3.179039</td>\n",
       "      <td>3.300468</td>\n",
       "      <td>3.283995</td>\n",
       "      <td>2.564485</td>\n",
       "    </tr>\n",
       "    <tr>\n",
       "      <th>9.0</th>\n",
       "      <td>2.360544</td>\n",
       "      <td>2.403421</td>\n",
       "      <td>2.518649</td>\n",
       "      <td>2.629442</td>\n",
       "      <td>1.850964</td>\n",
       "    </tr>\n",
       "    <tr>\n",
       "      <th>10.0</th>\n",
       "      <td>1.073529</td>\n",
       "      <td>1.962193</td>\n",
       "      <td>1.682002</td>\n",
       "      <td>1.813016</td>\n",
       "      <td>1.301578</td>\n",
       "    </tr>\n",
       "    <tr>\n",
       "      <th>11.0</th>\n",
       "      <td>1.166667</td>\n",
       "      <td>1.177966</td>\n",
       "      <td>1.268908</td>\n",
       "      <td>1.475410</td>\n",
       "      <td>1.476038</td>\n",
       "    </tr>\n",
       "  </tbody>\n",
       "</table>\n",
       "</div>"
      ],
      "text/plain": [
       "IncomeRange   $1-24,999  $25,000-49,999  $50,000-74,999  $75,000-99,999  \\\n",
       "ProsperScore                                                              \n",
       "1.0            8.321429        7.944444        7.302632        7.423077   \n",
       "2.0            4.683246        5.022417        5.550619        6.773639   \n",
       "3.0            4.544379        4.670593        4.994851        4.839153   \n",
       "4.0            3.434667        4.069990        4.735090        4.918356   \n",
       "5.0            3.039179        3.820735        4.484135        4.558631   \n",
       "6.0            3.103448        4.102279        3.770149        4.399254   \n",
       "7.0            2.997368        4.094281        4.179982        3.647524   \n",
       "8.0            2.119565        3.179039        3.300468        3.283995   \n",
       "9.0            2.360544        2.403421        2.518649        2.629442   \n",
       "10.0           1.073529        1.962193        1.682002        1.813016   \n",
       "11.0           1.166667        1.177966        1.268908        1.475410   \n",
       "\n",
       "IncomeRange   $100,000+  \n",
       "ProsperScore             \n",
       "1.0            4.666667  \n",
       "2.0            3.545283  \n",
       "3.0            5.066416  \n",
       "4.0            4.413383  \n",
       "5.0            4.220426  \n",
       "6.0            3.858244  \n",
       "7.0            3.164607  \n",
       "8.0            2.564485  \n",
       "9.0            1.850964  \n",
       "10.0           1.301578  \n",
       "11.0           1.476038  "
      ]
     },
     "execution_count": 312,
     "metadata": {},
     "output_type": "execute_result"
    },
    {
     "data": {
      "image/png": "[encoded data removed]",
      "text/plain": [
       "<matplotlib.figure.Figure at 0x2bb337e03c8>"
      ]
     },
     "metadata": {},
     "output_type": "display_data"
    }
   ],
   "source": [
    "ldf_delinq = pd.pivot_table(ldf, index='ProsperScore', columns='IncomeRange', values='DelinquenciesLast7Years')\n",
    "ldf_delinq = ldf_delinq[['$1-24,999', '$25,000-49,999',\n",
    "                        '$50,000-74,999', '$75,000-99,999','$100,000+']]\n",
    "ax = sns.heatmap(ldf_delinq, cmap=\"summer_r\")\n",
    "ax.invert_yaxis()\n",
    "ldf_delinq"
   ]
  },
  {
   "cell_type": "markdown",
   "metadata": {},
   "source": [
    "Here we can see the strongest indicator of risk to a loan company, the amount of delinquincies in the last 7 years. It's quite apparent at all income levels that the highest rates of delinquency have the worst risk score, and a low delinquency score will get you a better risk score no matter what your income range."
   ]
  }
 ],
 "metadata": {
  "kernelspec": {
   "display_name": "Python 3",
   "language": "python",
   "name": "python3"
  },
  "language_info": {
   "codemirror_mode": {
    "name": "ipython",
    "version": 3
   },
   "file_extension": ".py",
   "mimetype": "text/x-python",
   "name": "python",
   "nbconvert_exporter": "python",
   "pygments_lexer": "ipython3",
   "version": "3.6.0"
  }
 },
 "nbformat": 4,
 "nbformat_minor": 2
}
